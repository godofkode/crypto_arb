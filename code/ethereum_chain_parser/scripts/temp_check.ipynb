{
 "cells": [
  {
   "cell_type": "code",
   "execution_count": 19,
   "metadata": {},
   "outputs": [],
   "source": [
    "# Housekeeping\n",
    "import pandas as pd\n",
    "import numpy as np\n",
    "import matplotlib.pyplot as plt"
   ]
  },
  {
   "cell_type": "code",
   "execution_count": 58,
   "metadata": {},
   "outputs": [],
   "source": [
    "# Read Data\n",
    "chain = pd.read_csv(\"blockchain_temp.csv\")\n",
    "chain['date'] = pd.to_datetime(chain.timestamp_end, unit='s')"
   ]
  },
  {
   "cell_type": "code",
   "execution_count": 93,
   "metadata": {},
   "outputs": [
    {
     "data": {
      "text/plain": [
       "count      1101.000000\n",
       "mean     112274.219800\n",
       "std      103253.138929\n",
       "min          11.000000\n",
       "25%       17073.000000\n",
       "50%       80429.000000\n",
       "75%      162948.000000\n",
       "max      312452.000000\n",
       "Name: num_addr_to, dtype: float64"
      ]
     },
     "execution_count": 93,
     "metadata": {},
     "output_type": "execute_result"
    }
   ],
   "source": [
    "# Compute Occurence Matrix\n",
    "chain.num_addr_to.describe()\n"
   ]
  },
  {
   "cell_type": "code",
   "execution_count": 81,
   "metadata": {},
   "outputs": [
    {
     "data": {
      "text/plain": [
       "Index(['block_end', 'block_start', 'contract_txn_count', 'contract_txn_sum',\n",
       "       'crowdsale_txn_count', 'crowdsale_txn_sum', 'exchange_in_count',\n",
       "       'exchange_in_sum', 'exchange_out_count', 'exchange_out_sum', 'num_addr',\n",
       "       'num_addr_from', 'num_addr_to', 'p2p_txn_count', 'p2p_txn_sum',\n",
       "       'peer_txns_w_data', 'priceUSD', 'timestamp_end', 'timestamp_start',\n",
       "       'total_supply', 'transaction_count', 'transaction_sum', 'date'],\n",
       "      dtype='object')"
      ]
     },
     "execution_count": 81,
     "metadata": {},
     "output_type": "execute_result"
    }
   ],
   "source": [
    "chain.columns"
   ]
  },
  {
   "cell_type": "code",
   "execution_count": 59,
   "metadata": {},
   "outputs": [
    {
     "data": {
      "text/html": [
       "<div>\n",
       "<style scoped>\n",
       "    .dataframe tbody tr th:only-of-type {\n",
       "        vertical-align: middle;\n",
       "    }\n",
       "\n",
       "    .dataframe tbody tr th {\n",
       "        vertical-align: top;\n",
       "    }\n",
       "\n",
       "    .dataframe thead th {\n",
       "        text-align: right;\n",
       "    }\n",
       "</style>\n",
       "<table border=\"1\" class=\"dataframe\">\n",
       "  <thead>\n",
       "    <tr style=\"text-align: right;\">\n",
       "      <th></th>\n",
       "      <th>block_end</th>\n",
       "      <th>block_start</th>\n",
       "      <th>contract_txn_count</th>\n",
       "      <th>contract_txn_sum</th>\n",
       "      <th>crowdsale_txn_count</th>\n",
       "      <th>crowdsale_txn_sum</th>\n",
       "      <th>exchange_in_count</th>\n",
       "      <th>exchange_in_sum</th>\n",
       "      <th>exchange_out_count</th>\n",
       "      <th>exchange_out_sum</th>\n",
       "      <th>...</th>\n",
       "      <th>p2p_txn_count</th>\n",
       "      <th>p2p_txn_sum</th>\n",
       "      <th>peer_txns_w_data</th>\n",
       "      <th>priceUSD</th>\n",
       "      <th>timestamp_end</th>\n",
       "      <th>timestamp_start</th>\n",
       "      <th>total_supply</th>\n",
       "      <th>transaction_count</th>\n",
       "      <th>transaction_sum</th>\n",
       "      <th>date</th>\n",
       "    </tr>\n",
       "  </thead>\n",
       "  <tbody>\n",
       "    <tr>\n",
       "      <th>1096</th>\n",
       "      <td>1097000</td>\n",
       "      <td>1</td>\n",
       "      <td>2600390</td>\n",
       "      <td>9.997586e+08</td>\n",
       "      <td>0</td>\n",
       "      <td>0</td>\n",
       "      <td>7</td>\n",
       "      <td>1.6</td>\n",
       "      <td>0</td>\n",
       "      <td>0</td>\n",
       "      <td>...</td>\n",
       "      <td>1831293</td>\n",
       "      <td>4.032684e+09</td>\n",
       "      <td>0</td>\n",
       "      <td>330.999900</td>\n",
       "      <td>1497151903</td>\n",
       "      <td>1479642530</td>\n",
       "      <td>12685990.5</td>\n",
       "      <td>4431690</td>\n",
       "      <td>5.032443e+09</td>\n",
       "      <td>2017-06-11 03:31:43</td>\n",
       "    </tr>\n",
       "    <tr>\n",
       "      <th>1097</th>\n",
       "      <td>1098000</td>\n",
       "      <td>1</td>\n",
       "      <td>2600536</td>\n",
       "      <td>9.997586e+08</td>\n",
       "      <td>0</td>\n",
       "      <td>0</td>\n",
       "      <td>7</td>\n",
       "      <td>1.6</td>\n",
       "      <td>0</td>\n",
       "      <td>0</td>\n",
       "      <td>...</td>\n",
       "      <td>1836653</td>\n",
       "      <td>4.032685e+09</td>\n",
       "      <td>0</td>\n",
       "      <td>336.520986</td>\n",
       "      <td>1497165918</td>\n",
       "      <td>1479642530</td>\n",
       "      <td>12690990.5</td>\n",
       "      <td>4437196</td>\n",
       "      <td>5.032443e+09</td>\n",
       "      <td>2017-06-11 07:25:18</td>\n",
       "    </tr>\n",
       "    <tr>\n",
       "      <th>1098</th>\n",
       "      <td>1099000</td>\n",
       "      <td>1</td>\n",
       "      <td>2600708</td>\n",
       "      <td>9.997586e+08</td>\n",
       "      <td>0</td>\n",
       "      <td>0</td>\n",
       "      <td>7</td>\n",
       "      <td>1.6</td>\n",
       "      <td>0</td>\n",
       "      <td>0</td>\n",
       "      <td>...</td>\n",
       "      <td>1848442</td>\n",
       "      <td>4.032697e+09</td>\n",
       "      <td>0</td>\n",
       "      <td>335.815951</td>\n",
       "      <td>1497180701</td>\n",
       "      <td>1479642530</td>\n",
       "      <td>12695990.5</td>\n",
       "      <td>4449157</td>\n",
       "      <td>5.032455e+09</td>\n",
       "      <td>2017-06-11 11:31:41</td>\n",
       "    </tr>\n",
       "    <tr>\n",
       "      <th>1099</th>\n",
       "      <td>1100000</td>\n",
       "      <td>1</td>\n",
       "      <td>2600852</td>\n",
       "      <td>9.997586e+08</td>\n",
       "      <td>0</td>\n",
       "      <td>0</td>\n",
       "      <td>7</td>\n",
       "      <td>1.6</td>\n",
       "      <td>0</td>\n",
       "      <td>0</td>\n",
       "      <td>...</td>\n",
       "      <td>1852324</td>\n",
       "      <td>4.032698e+09</td>\n",
       "      <td>0</td>\n",
       "      <td>330.000000</td>\n",
       "      <td>1497194426</td>\n",
       "      <td>1479642530</td>\n",
       "      <td>12700990.5</td>\n",
       "      <td>4453183</td>\n",
       "      <td>5.032456e+09</td>\n",
       "      <td>2017-06-11 15:20:26</td>\n",
       "    </tr>\n",
       "    <tr>\n",
       "      <th>1100</th>\n",
       "      <td>1101000</td>\n",
       "      <td>1</td>\n",
       "      <td>2600956</td>\n",
       "      <td>9.997586e+08</td>\n",
       "      <td>0</td>\n",
       "      <td>0</td>\n",
       "      <td>7</td>\n",
       "      <td>1.6</td>\n",
       "      <td>0</td>\n",
       "      <td>0</td>\n",
       "      <td>...</td>\n",
       "      <td>1854821</td>\n",
       "      <td>4.032698e+09</td>\n",
       "      <td>0</td>\n",
       "      <td>342.412370</td>\n",
       "      <td>1497208105</td>\n",
       "      <td>1479642530</td>\n",
       "      <td>12705990.5</td>\n",
       "      <td>4455784</td>\n",
       "      <td>5.032457e+09</td>\n",
       "      <td>2017-06-11 19:08:25</td>\n",
       "    </tr>\n",
       "  </tbody>\n",
       "</table>\n",
       "<p>5 rows × 23 columns</p>\n",
       "</div>"
      ],
      "text/plain": [
       "      block_end  block_start  contract_txn_count  contract_txn_sum  \\\n",
       "1096    1097000            1             2600390      9.997586e+08   \n",
       "1097    1098000            1             2600536      9.997586e+08   \n",
       "1098    1099000            1             2600708      9.997586e+08   \n",
       "1099    1100000            1             2600852      9.997586e+08   \n",
       "1100    1101000            1             2600956      9.997586e+08   \n",
       "\n",
       "      crowdsale_txn_count  crowdsale_txn_sum  exchange_in_count  \\\n",
       "1096                    0                  0                  7   \n",
       "1097                    0                  0                  7   \n",
       "1098                    0                  0                  7   \n",
       "1099                    0                  0                  7   \n",
       "1100                    0                  0                  7   \n",
       "\n",
       "      exchange_in_sum  exchange_out_count  exchange_out_sum  \\\n",
       "1096              1.6                   0                 0   \n",
       "1097              1.6                   0                 0   \n",
       "1098              1.6                   0                 0   \n",
       "1099              1.6                   0                 0   \n",
       "1100              1.6                   0                 0   \n",
       "\n",
       "             ...          p2p_txn_count   p2p_txn_sum  peer_txns_w_data  \\\n",
       "1096         ...                1831293  4.032684e+09                 0   \n",
       "1097         ...                1836653  4.032685e+09                 0   \n",
       "1098         ...                1848442  4.032697e+09                 0   \n",
       "1099         ...                1852324  4.032698e+09                 0   \n",
       "1100         ...                1854821  4.032698e+09                 0   \n",
       "\n",
       "        priceUSD  timestamp_end  timestamp_start  total_supply  \\\n",
       "1096  330.999900     1497151903       1479642530    12685990.5   \n",
       "1097  336.520986     1497165918       1479642530    12690990.5   \n",
       "1098  335.815951     1497180701       1479642530    12695990.5   \n",
       "1099  330.000000     1497194426       1479642530    12700990.5   \n",
       "1100  342.412370     1497208105       1479642530    12705990.5   \n",
       "\n",
       "      transaction_count  transaction_sum                date  \n",
       "1096            4431690     5.032443e+09 2017-06-11 03:31:43  \n",
       "1097            4437196     5.032443e+09 2017-06-11 07:25:18  \n",
       "1098            4449157     5.032455e+09 2017-06-11 11:31:41  \n",
       "1099            4453183     5.032456e+09 2017-06-11 15:20:26  \n",
       "1100            4455784     5.032457e+09 2017-06-11 19:08:25  \n",
       "\n",
       "[5 rows x 23 columns]"
      ]
     },
     "execution_count": 59,
     "metadata": {},
     "output_type": "execute_result"
    }
   ],
   "source": [
    "chain.tail()"
   ]
  },
  {
   "cell_type": "code",
   "execution_count": 72,
   "metadata": {},
   "outputs": [
    {
     "data": {
      "image/png": "[encoded data removed]",
      "text/plain": [
       "<Figure size 720x288 with 1 Axes>"
      ]
     },
     "metadata": {},
     "output_type": "display_data"
    }
   ],
   "source": [
    "plt.figure(1, figsize=(10, 4))\n",
    "plt.plot(chain[chain.date > '2017-06-01'].date, chain.num_addr_from[chain.date > '2017-06-01'], color='r')\n",
    "plt.plot(chain.date[chain.date > '2017-06-01'], chain.num_addr_to[chain.date > '2017-06-01'])\n",
    "plt.legend()\n",
    "plt.show()"
   ]
  },
  {
   "cell_type": "code",
   "execution_count": 94,
   "metadata": {},
   "outputs": [
    {
     "data": {
      "image/png": "[encoded data removed]",
      "text/plain": [
       "<Figure size 720x288 with 1 Axes>"
      ]
     },
     "metadata": {},
     "output_type": "display_data"
    }
   ],
   "source": [
    "plt.figure(1, figsize=(10, 4))\n",
    "plt.plot(chain.date, chain.num_addr_from - chain.num_addr_to)\n",
    "plt.show()"
   ]
  },
  {
   "cell_type": "code",
   "execution_count": 80,
   "metadata": {},
   "outputs": [
    {
     "data": {
      "image/png": "[encoded data removed]",
      "text/plain": [
       "<Figure size 720x288 with 1 Axes>"
      ]
     },
     "metadata": {},
     "output_type": "display_data"
    }
   ],
   "source": [
    "plt.figure(1, figsize=(10, 4))\n",
    "plt.plot(chain.date, chain.num_addr_from)\n",
    "plt.show()"
   ]
  },
  {
   "cell_type": "code",
   "execution_count": 79,
   "metadata": {},
   "outputs": [
    {
     "data": {
      "image/png": "[encoded data removed]",
      "text/plain": [
       "<Figure size 720x288 with 1 Axes>"
      ]
     },
     "metadata": {},
     "output_type": "display_data"
    }
   ],
   "source": [
    "plt.figure(1, figsize=(10, 4))\n",
    "plt.plot(chain.date, chain.num_addr_to)\n",
    "plt.show()"
   ]
  },
  {
   "cell_type": "code",
   "execution_count": 78,
   "metadata": {},
   "outputs": [
    {
     "data": {
      "image/png": "[encoded data removed]",
      "text/plain": [
       "<Figure size 720x288 with 1 Axes>"
      ]
     },
     "metadata": {},
     "output_type": "display_data"
    }
   ],
   "source": [
    "plt.figure(1, figsize=(10, 4))\n",
    "plt.plot(chain.date, chain.priceUSD)\n",
    "plt.show()"
   ]
  },
  {
   "cell_type": "code",
   "execution_count": null,
   "metadata": {},
   "outputs": [],
   "source": []
  }
 ],
 "metadata": {
  "kernelspec": {
   "display_name": "Python 3",
   "language": "python",
   "name": "python3"
  },
  "language_info": {
   "codemirror_mode": {
    "name": "ipython",
    "version": 3
   },
   "file_extension": ".py",
   "mimetype": "text/x-python",
   "name": "python",
   "nbconvert_exporter": "python",
   "pygments_lexer": "ipython3",
   "version": "3.5.4"
  }
 },
 "nbformat": 4,
 "nbformat_minor": 2
}
