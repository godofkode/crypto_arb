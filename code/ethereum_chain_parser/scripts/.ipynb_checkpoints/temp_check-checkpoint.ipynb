{
 "cells": [
  {
   "cell_type": "code",
   "execution_count": 19,
   "metadata": {},
   "outputs": [],
   "source": [
    "# Housekeeping\n",
    "import pandas as pd\n",
    "import numpy as np\n",
    "import matplotlib.pyplot as plt"
   ]
  },
  {
   "cell_type": "code",
   "execution_count": 15,
   "metadata": {},
   "outputs": [],
   "source": [
    "# Read Data\n",
    "chain = pd.read_csv(\"blockchain_temp.csv\")\n",
    "chain['date'] = pd.to_datetime(chain.timestamp_end, unit='s')"
   ]
  },
  {
   "cell_type": "code",
   "execution_count": 55,
   "metadata": {},
   "outputs": [
    {
     "data": {
      "text/html": [
       "<div>\n",
       "<style scoped>\n",
       "    .dataframe tbody tr th:only-of-type {\n",
       "        vertical-align: middle;\n",
       "    }\n",
       "\n",
       "    .dataframe tbody tr th {\n",
       "        vertical-align: top;\n",
       "    }\n",
       "\n",
       "    .dataframe thead th {\n",
       "        text-align: right;\n",
       "    }\n",
       "</style>\n",
       "<table border=\"1\" class=\"dataframe\">\n",
       "  <thead>\n",
       "    <tr style=\"text-align: right;\">\n",
       "      <th></th>\n",
       "      <th>block_end</th>\n",
       "      <th>block_start</th>\n",
       "      <th>contract_txn_count</th>\n",
       "      <th>contract_txn_sum</th>\n",
       "      <th>crowdsale_txn_count</th>\n",
       "      <th>crowdsale_txn_sum</th>\n",
       "      <th>exchange_in_count</th>\n",
       "      <th>exchange_in_sum</th>\n",
       "      <th>exchange_out_count</th>\n",
       "      <th>exchange_out_sum</th>\n",
       "      <th>...</th>\n",
       "      <th>p2p_txn_count</th>\n",
       "      <th>p2p_txn_sum</th>\n",
       "      <th>peer_txns_w_data</th>\n",
       "      <th>priceUSD</th>\n",
       "      <th>timestamp_end</th>\n",
       "      <th>timestamp_start</th>\n",
       "      <th>total_supply</th>\n",
       "      <th>transaction_count</th>\n",
       "      <th>transaction_sum</th>\n",
       "      <th>date</th>\n",
       "    </tr>\n",
       "  </thead>\n",
       "  <tbody>\n",
       "    <tr>\n",
       "      <th>0</th>\n",
       "      <td>1000</td>\n",
       "      <td>1</td>\n",
       "      <td>0</td>\n",
       "      <td>0.000000e+00</td>\n",
       "      <td>0</td>\n",
       "      <td>0</td>\n",
       "      <td>0</td>\n",
       "      <td>0.0</td>\n",
       "      <td>0</td>\n",
       "      <td>0</td>\n",
       "      <td>...</td>\n",
       "      <td>22</td>\n",
       "      <td>3.000000e-18</td>\n",
       "      <td>0</td>\n",
       "      <td>9.556004</td>\n",
       "      <td>1479664045</td>\n",
       "      <td>1479642530</td>\n",
       "      <td>7205990.5</td>\n",
       "      <td>22</td>\n",
       "      <td>3.000000e-18</td>\n",
       "      <td>2016-11-20 17:47:25</td>\n",
       "    </tr>\n",
       "    <tr>\n",
       "      <th>1</th>\n",
       "      <td>2000</td>\n",
       "      <td>1</td>\n",
       "      <td>0</td>\n",
       "      <td>0.000000e+00</td>\n",
       "      <td>0</td>\n",
       "      <td>0</td>\n",
       "      <td>0</td>\n",
       "      <td>0.0</td>\n",
       "      <td>0</td>\n",
       "      <td>0</td>\n",
       "      <td>...</td>\n",
       "      <td>22</td>\n",
       "      <td>3.000000e-18</td>\n",
       "      <td>0</td>\n",
       "      <td>9.556004</td>\n",
       "      <td>1479664045</td>\n",
       "      <td>1479642530</td>\n",
       "      <td>7210990.5</td>\n",
       "      <td>22</td>\n",
       "      <td>3.000000e-18</td>\n",
       "      <td>2016-11-20 17:47:25</td>\n",
       "    </tr>\n",
       "    <tr>\n",
       "      <th>2</th>\n",
       "      <td>3000</td>\n",
       "      <td>1</td>\n",
       "      <td>0</td>\n",
       "      <td>0.000000e+00</td>\n",
       "      <td>0</td>\n",
       "      <td>0</td>\n",
       "      <td>0</td>\n",
       "      <td>0.0</td>\n",
       "      <td>0</td>\n",
       "      <td>0</td>\n",
       "      <td>...</td>\n",
       "      <td>22</td>\n",
       "      <td>3.000000e-18</td>\n",
       "      <td>0</td>\n",
       "      <td>9.575998</td>\n",
       "      <td>1479672374</td>\n",
       "      <td>1479642530</td>\n",
       "      <td>7215990.5</td>\n",
       "      <td>22</td>\n",
       "      <td>3.000000e-18</td>\n",
       "      <td>2016-11-20 20:06:14</td>\n",
       "    </tr>\n",
       "    <tr>\n",
       "      <th>3</th>\n",
       "      <td>4000</td>\n",
       "      <td>1</td>\n",
       "      <td>0</td>\n",
       "      <td>0.000000e+00</td>\n",
       "      <td>0</td>\n",
       "      <td>0</td>\n",
       "      <td>0</td>\n",
       "      <td>0.0</td>\n",
       "      <td>0</td>\n",
       "      <td>0</td>\n",
       "      <td>...</td>\n",
       "      <td>25</td>\n",
       "      <td>4.000000e+01</td>\n",
       "      <td>0</td>\n",
       "      <td>9.576052</td>\n",
       "      <td>1479680784</td>\n",
       "      <td>1479642530</td>\n",
       "      <td>7220990.5</td>\n",
       "      <td>25</td>\n",
       "      <td>4.000000e+01</td>\n",
       "      <td>2016-11-20 22:26:24</td>\n",
       "    </tr>\n",
       "    <tr>\n",
       "      <th>4</th>\n",
       "      <td>5000</td>\n",
       "      <td>1</td>\n",
       "      <td>3</td>\n",
       "      <td>3.000000e-14</td>\n",
       "      <td>0</td>\n",
       "      <td>0</td>\n",
       "      <td>0</td>\n",
       "      <td>0.0</td>\n",
       "      <td>0</td>\n",
       "      <td>0</td>\n",
       "      <td>...</td>\n",
       "      <td>27</td>\n",
       "      <td>5.200000e+01</td>\n",
       "      <td>0</td>\n",
       "      <td>9.550110</td>\n",
       "      <td>1479685762</td>\n",
       "      <td>1479642530</td>\n",
       "      <td>7225990.5</td>\n",
       "      <td>30</td>\n",
       "      <td>5.200000e+01</td>\n",
       "      <td>2016-11-20 23:49:22</td>\n",
       "    </tr>\n",
       "  </tbody>\n",
       "</table>\n",
       "<p>5 rows × 23 columns</p>\n",
       "</div>"
      ],
      "text/plain": [
       "   block_end  block_start  contract_txn_count  contract_txn_sum  \\\n",
       "0       1000            1                   0      0.000000e+00   \n",
       "1       2000            1                   0      0.000000e+00   \n",
       "2       3000            1                   0      0.000000e+00   \n",
       "3       4000            1                   0      0.000000e+00   \n",
       "4       5000            1                   3      3.000000e-14   \n",
       "\n",
       "   crowdsale_txn_count  crowdsale_txn_sum  exchange_in_count  exchange_in_sum  \\\n",
       "0                    0                  0                  0              0.0   \n",
       "1                    0                  0                  0              0.0   \n",
       "2                    0                  0                  0              0.0   \n",
       "3                    0                  0                  0              0.0   \n",
       "4                    0                  0                  0              0.0   \n",
       "\n",
       "   exchange_out_count  exchange_out_sum         ...          p2p_txn_count  \\\n",
       "0                   0                 0         ...                     22   \n",
       "1                   0                 0         ...                     22   \n",
       "2                   0                 0         ...                     22   \n",
       "3                   0                 0         ...                     25   \n",
       "4                   0                 0         ...                     27   \n",
       "\n",
       "    p2p_txn_sum  peer_txns_w_data  priceUSD  timestamp_end  timestamp_start  \\\n",
       "0  3.000000e-18                 0  9.556004     1479664045       1479642530   \n",
       "1  3.000000e-18                 0  9.556004     1479664045       1479642530   \n",
       "2  3.000000e-18                 0  9.575998     1479672374       1479642530   \n",
       "3  4.000000e+01                 0  9.576052     1479680784       1479642530   \n",
       "4  5.200000e+01                 0  9.550110     1479685762       1479642530   \n",
       "\n",
       "   total_supply  transaction_count  transaction_sum                date  \n",
       "0     7205990.5                 22     3.000000e-18 2016-11-20 17:47:25  \n",
       "1     7210990.5                 22     3.000000e-18 2016-11-20 17:47:25  \n",
       "2     7215990.5                 22     3.000000e-18 2016-11-20 20:06:14  \n",
       "3     7220990.5                 25     4.000000e+01 2016-11-20 22:26:24  \n",
       "4     7225990.5                 30     5.200000e+01 2016-11-20 23:49:22  \n",
       "\n",
       "[5 rows x 23 columns]"
      ]
     },
     "execution_count": 55,
     "metadata": {},
     "output_type": "execute_result"
    }
   ],
   "source": [
    "chain.head()"
   ]
  },
  {
   "cell_type": "code",
   "execution_count": 17,
   "metadata": {},
   "outputs": [
    {
     "data": {
      "text/plain": [
       "Index(['block_end', 'block_start', 'contract_txn_count', 'contract_txn_sum',\n",
       "       'crowdsale_txn_count', 'crowdsale_txn_sum', 'exchange_in_count',\n",
       "       'exchange_in_sum', 'exchange_out_count', 'exchange_out_sum', 'num_addr',\n",
       "       'num_addr_from', 'num_addr_to', 'p2p_txn_count', 'p2p_txn_sum',\n",
       "       'peer_txns_w_data', 'priceUSD', 'timestamp_end', 'timestamp_start',\n",
       "       'total_supply', 'transaction_count', 'transaction_sum', 'date'],\n",
       "      dtype='object')"
      ]
     },
     "execution_count": 17,
     "metadata": {},
     "output_type": "execute_result"
    }
   ],
   "source": [
    "chain.columns"
   ]
  },
  {
   "cell_type": "code",
   "execution_count": 53,
   "metadata": {},
   "outputs": [
    {
     "data": {
      "image/png": "[encoded data removed]",
      "text/plain": [
       "<Figure size 720x288 with 1 Axes>"
      ]
     },
     "metadata": {},
     "output_type": "display_data"
    }
   ],
   "source": [
    "plt.figure(1, figsize=(10, 4))\n",
    "plt.plot(chain.date, chain.num_addr_from, color='r')\n",
    "plt.plot(chain.date, chain.num_addr_to)\n",
    "plt.legend()\n",
    "plt.show()"
   ]
  },
  {
   "cell_type": "code",
   "execution_count": 54,
   "metadata": {},
   "outputs": [
    {
     "data": {
      "image/png": "[encoded data removed]",
      "text/plain": [
       "<Figure size 720x288 with 1 Axes>"
      ]
     },
     "metadata": {},
     "output_type": "display_data"
    }
   ],
   "source": [
    "plt.figure(1, figsize=(10, 4))\n",
    "plt.plot(chain.date, chain.priceUSD)\n",
    "plt.show()"
   ]
  },
  {
   "cell_type": "code",
   "execution_count": null,
   "metadata": {},
   "outputs": [],
   "source": []
  }
 ],
 "metadata": {
  "kernelspec": {
   "display_name": "Python 3",
   "language": "python",
   "name": "python3"
  },
  "language_info": {
   "codemirror_mode": {
    "name": "ipython",
    "version": 3
   },
   "file_extension": ".py",
   "mimetype": "text/x-python",
   "name": "python",
   "nbconvert_exporter": "python",
   "pygments_lexer": "ipython3",
   "version": "3.5.4"
  }
 },
 "nbformat": 4,
 "nbformat_minor": 2
}
